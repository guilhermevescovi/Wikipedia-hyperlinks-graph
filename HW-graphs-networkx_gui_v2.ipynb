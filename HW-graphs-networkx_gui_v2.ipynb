{
 "cells": [
  {
   "cell_type": "code",
   "execution_count": 2,
   "metadata": {
    "ExecuteTime": {
     "end_time": "2018-12-22T21:38:08.133925Z",
     "start_time": "2018-12-22T21:37:59.445756Z"
    }
   },
   "outputs": [],
   "source": [
    "import networkx as nx\n",
    "from collections import defaultdict\n",
    "import numpy as np\n",
    "import pickle\n",
    "import collections\n",
    "from tqdm import tqdm, tnrange"
   ]
  },
  {
   "cell_type": "markdown",
   "metadata": {},
   "source": [
    "### [RQ1]\n",
    "**Creating Graph**"
   ]
  },
  {
   "cell_type": "code",
   "execution_count": 3,
   "metadata": {
    "ExecuteTime": {
     "end_time": "2018-12-22T21:38:08.199805Z",
     "start_time": "2018-12-22T21:38:08.195816Z"
    }
   },
   "outputs": [],
   "source": [
    "DG = nx.DiGraph()"
   ]
  },
  {
   "cell_type": "code",
   "execution_count": 4,
   "metadata": {
    "ExecuteTime": {
     "end_time": "2018-12-22T21:38:37.714460Z",
     "start_time": "2018-12-22T21:38:23.978356Z"
    }
   },
   "outputs": [],
   "source": [
    "path = \"C:/Users/guilh/Desktop/ADM/HW5/\"\n",
    "\n",
    "# i.e. our_edges = {node1:[node2,node4,node5], ..., 1:[2, 3, 5], 2:[5], 3:[6] ....}\n",
    "# our_edges = defaultdict(list)\n",
    "\n",
    "with open(path + \"wiki-topcats-reduced.txt\", \"r\") as f:\n",
    "    #create graph\n",
    "    for line in f.readlines():\n",
    "        article1, article2 = line.split()\n",
    "        DG.add_weighted_edges_from([(int(article1), int(article2), 1)])\n",
    "#         our_edges[int(article1)].append(int(article2))"
   ]
  },
  {
   "cell_type": "code",
   "execution_count": 5,
   "metadata": {
    "ExecuteTime": {
     "end_time": "2018-12-22T21:38:38.195817Z",
     "start_time": "2018-12-22T21:38:37.782929Z"
    }
   },
   "outputs": [
    {
     "name": "stdout",
     "output_type": "stream",
     "text": [
      "Is graph directed?  True \n",
      "\n",
      "Since the neighbors of 52nd node are: 401135 1069112 1163551 ,52nd node is not neighbor for 1069112nd node which has connection with 1060396 1061304 1062611 1066969 1069008 1069113 1069258 1069275 1656982  nodes. \n",
      "\n",
      "The number of nodes: 461193 \n",
      "\n",
      "The number of edges: 2645247\n"
     ]
    }
   ],
   "source": [
    "# Is graph directed\n",
    "print(\"Is graph directed? \", nx.is_directed(DG), \"\\n\") # check whether graph is directed or not\n",
    "\n",
    "# example;\n",
    "print(\"Since the neighbors of 52nd node are:\", *list(DG.neighbors(52)),\n",
    "      \",52nd node is not neighbor for 1069112nd node which has connection with\", *list(DG.neighbors(1069112)),\" nodes. \\n\")\n",
    "\n",
    "# The number of nodes\n",
    "nodes_num = DG.number_of_nodes()\n",
    "print(\"The number of nodes:\", nodes_num, \"\\n\") # also len(DG) works\n",
    "\n",
    "# The number of edges\n",
    "edges_num = DG.number_of_edges()\n",
    "print(\"The number of edges:\", edges_num)"
   ]
  },
  {
   "cell_type": "markdown",
   "metadata": {},
   "source": [
    "**Basic Information**:\n",
    "+ If it is direct or not - **Direct**\n",
    "+ The number of nodes\n",
    "+ The number of edges\n",
    "+ The average node degree. Is the graph dense?"
   ]
  },
  {
   "cell_type": "markdown",
   "metadata": {},
   "source": [
    "**Graph density**\n",
    "In mathematics, a dense graph is a graph in which the number of edges is close to the maximal number of edges. The opposite, a graph with only a few edges, is a sparse graph. The distinction between sparse and dense graphs is rather vague, and depends on the context.\n",
    "\n",
    "For directed graphs, the graph density is defined as:\n",
    "$$D = \\frac{|E|}{|V|(|V|-1)}$$\n",
    "\n",
    "where E is the number of edges and V is the number of vertices in the graph. The maximum number of edges for an directed graph is $|V|(|V|-1).$"
   ]
  },
  {
   "cell_type": "code",
   "execution_count": 6,
   "metadata": {
    "ExecuteTime": {
     "end_time": "2018-12-22T21:39:00.802529Z",
     "start_time": "2018-12-22T21:39:00.796520Z"
    }
   },
   "outputs": [
    {
     "name": "stdout",
     "output_type": "stream",
     "text": [
      "6.590986317548208e-08\n"
     ]
    }
   ],
   "source": [
    "density = nodes_num / (edges_num*(edges_num-1))\n",
    "print(density);"
   ]
  },
  {
   "cell_type": "code",
   "execution_count": null,
   "metadata": {},
   "outputs": [],
   "source": []
  },
  {
   "cell_type": "markdown",
   "metadata": {},
   "source": [
    "### [RQ2] \n",
    "Given a category $C_0 = \\{article_1, article_2, \\dots \\}$ as input we want to rank all of the nodes in V according to the block-ranking, where the blocks are represented by the categories:\n",
    "$$block_{RANKING} =\\begin{bmatrix} C_0 \\\\ C_1 \\\\ \\dots \\\\ C_c\\\\ \\end{bmatrix}$$\n",
    "\n",
    "Each category  corresponds to a list of nodes.\n",
    "\n",
    "The first category of the rank, $C_0$, always corresponds to the input category. The order of the remaining categories is given by:\n",
    "\n",
    "$$distance(C_0, C_i) = median(ShortestPath(C_0, C_i))$$\n",
    "\n",
    "The lower is the distance from $C_0$, the higher is the $C_i$ position in the rank. $ShortestPath(C_0, C_i)$ is the set of all the possible shortest paths between the nodes of $C_0$ and $C_i$. Moreover, the length of a path is given by the sum of the weights of the edges it is composed by."
   ]
  },
  {
   "cell_type": "markdown",
   "metadata": {},
   "source": [
    "##### Reading the file with categories"
   ]
  },
  {
   "cell_type": "code",
   "execution_count": 7,
   "metadata": {
    "ExecuteTime": {
     "end_time": "2018-12-22T21:39:06.030534Z",
     "start_time": "2018-12-22T21:39:04.256258Z"
    }
   },
   "outputs": [],
   "source": [
    "with open(path + \"wiki-topcats-categories.txt\", \"r\") as f2:\n",
    "    categories = {} # {category0 : [article1, article2, ...], ...., 5: [23, 45, 6]}\n",
    "    for cat_indx, line in enumerate(f2.readlines()):\n",
    "        categories[cat_indx] = list(map(int, line.split(\";\")[1].split()))"
   ]
  },
  {
   "cell_type": "markdown",
   "metadata": {},
   "source": [
    "#### Choosing categories which exist in our reduced graph:"
   ]
  },
  {
   "cell_type": "code",
   "execution_count": 8,
   "metadata": {
    "ExecuteTime": {
     "end_time": "2018-12-22T21:39:09.929630Z",
     "start_time": "2018-12-22T21:39:09.913672Z"
    }
   },
   "outputs": [
    {
     "data": {
      "text/plain": [
       "461193"
      ]
     },
     "execution_count": 8,
     "metadata": {},
     "output_type": "execute_result"
    }
   ],
   "source": [
    "len(DG.nodes)"
   ]
  },
  {
   "cell_type": "code",
   "execution_count": 9,
   "metadata": {
    "ExecuteTime": {
     "end_time": "2018-12-22T21:39:15.205265Z",
     "start_time": "2018-12-22T21:39:13.904998Z"
    }
   },
   "outputs": [],
   "source": [
    "tmp_selected_category_indx = []\n",
    "# filtering categories with nodes more than 3500\n",
    "for i in range(len(categories)):\n",
    "    if len(categories[i]) > 3500:\n",
    "        tmp_selected_category_indx.append(i)\n",
    "\n",
    "grouped_categories_nodes = [] # nodes grouped per category -- without C0 category\n",
    "categories_nodes = set() # all nodes together -- without C0 category\n",
    "\n",
    "# chose the category C0 with nodes only included in the DG graph:\n",
    "C0 = set(categories[10839]).intersection(DG.nodes) #!!! Remember: we already have C0, do not create it later!\n",
    "\n",
    "final_selected_category_indx = []\n",
    "# chose categories with nodes only included in the DG graph:\n",
    "for idx in tmp_selected_category_indx[1:]:\n",
    "    tmp_categ = set(categories[idx]).intersection(DG.nodes)\n",
    "    # if C_i contains different nodes than C0:\n",
    "    C_i = tmp_categ - C0\n",
    "    if len(C_i) != 0 and len(C_i) < 100000:\n",
    "        final_selected_category_indx.append(idx)\n",
    "        grouped_categories_nodes.append(C_i)\n",
    "        categories_nodes = categories_nodes.union(C_i)"
   ]
  },
  {
   "cell_type": "code",
   "execution_count": 10,
   "metadata": {
    "ExecuteTime": {
     "end_time": "2018-12-22T21:39:19.643182Z",
     "start_time": "2018-12-22T21:39:19.636175Z"
    }
   },
   "outputs": [
    {
     "data": {
      "text/plain": [
       "33"
      ]
     },
     "execution_count": 10,
     "metadata": {},
     "output_type": "execute_result"
    }
   ],
   "source": [
    "len(grouped_categories_nodes) + 1 #should be 34"
   ]
  },
  {
   "cell_type": "code",
   "execution_count": 11,
   "metadata": {
    "ExecuteTime": {
     "end_time": "2018-12-22T21:39:23.922371Z",
     "start_time": "2018-12-22T21:39:23.913394Z"
    }
   },
   "outputs": [
    {
     "data": {
      "text/plain": [
       "3446"
      ]
     },
     "execution_count": 11,
     "metadata": {},
     "output_type": "execute_result"
    }
   ],
   "source": [
    "len(C0)"
   ]
  },
  {
   "cell_type": "markdown",
   "metadata": {},
   "source": [
    "## BFS Shortest path"
   ]
  },
  {
   "cell_type": "code",
   "execution_count": null,
   "metadata": {
    "ExecuteTime": {
     "end_time": "2018-12-22T12:42:24.579009Z",
     "start_time": "2018-12-22T12:42:24.571032Z"
    }
   },
   "outputs": [],
   "source": [
    "def bfs_shortest_path(graph, start, categories_nodes):\n",
    "    visited_dict = defaultdict(lambda:[False])\n",
    "    queue = [start]\n",
    "    visited_dict[start] = 0\n",
    "    \n",
    "    while queue:\n",
    "        node = queue.pop(0)\n",
    "        distance = visited_dict[node]\n",
    "        try:\n",
    "            for neighbour in graph.neighbors(node):\n",
    "                if visited_dict[neighbour]==[False]:\n",
    "                    visited_dict[neighbour] = distance + 1\n",
    "                    queue.append(neighbour)\n",
    "        except KeyError: pass\n",
    "    return {node:visited_dict[node] for node in categories_nodes}"
   ]
  },
  {
   "cell_type": "markdown",
   "metadata": {},
   "source": [
    "article_distances = {}\n",
    "counter = 0\n",
    "\n",
    "for idx, node in enumerate(C0):\n",
    "    article_distances[node] = bfs_shortest_path(DG, node, categories_nodes)\n",
    "    if (idx+1)%100==0:\n",
    "        with open('distance_' + str(counter) + '.pkl', 'wb') as file:\n",
    "            pickle.dump(article_distances, file, pickle.HIGHEST_PROTOCOL)\n",
    "        article_distances = dict(); counter+=1\n",
    "\n",
    "with open('distance_' + str(counter) + '.pkl', 'wb') as file:\n",
    "    pickle.dump(article_distances, file, pickle.HIGHEST_PROTOCOL)"
   ]
  },
  {
   "cell_type": "code",
   "execution_count": null,
   "metadata": {},
   "outputs": [],
   "source": []
  },
  {
   "cell_type": "code",
   "execution_count": null,
   "metadata": {},
   "outputs": [],
   "source": []
  },
  {
   "cell_type": "markdown",
   "metadata": {},
   "source": [
    "# Grouping categories with distances"
   ]
  },
  {
   "cell_type": "code",
   "execution_count": 12,
   "metadata": {
    "ExecuteTime": {
     "end_time": "2018-12-22T21:39:28.210605Z",
     "start_time": "2018-12-22T21:39:28.205618Z"
    }
   },
   "outputs": [],
   "source": [
    "path = \"C:/Users/guilh/Desktop/ADM/HW5/distances_files/\""
   ]
  },
  {
   "cell_type": "code",
   "execution_count": null,
   "metadata": {
    "ExecuteTime": {
     "start_time": "2018-12-22T20:13:11.827Z"
    },
    "scrolled": true
   },
   "outputs": [],
   "source": [
    "for j in tnrange(35):\n",
    "    \n",
    "    with open(path + 'distance_' + str(j) + '.pkl', 'rb') as file:\n",
    "        distance_dict = pickle.load(file)\n",
    "    \n",
    "    distances_categories = []\n",
    "    \n",
    "    #for each category selected previously excluding C0\n",
    "    for i in final_selected_category_indx:\n",
    "        distances = []\n",
    "        #for each node in this selected category underanalysis\n",
    "        for node in categories[i]:\n",
    "            #for the starting node of C0 into our distance file\n",
    "            for starting_node in distance_dict:\n",
    "                #try to find the distances from C0 node to the node inside the category under analysis\n",
    "                try:\n",
    "                    d = distance_dict[starting_node][node]\n",
    "                    if d != [False]:\n",
    "                        distances.append(d)\n",
    "                        #if distance is false append 9999\n",
    "                    else: distances.append(9999)\n",
    "                        \n",
    "                except: pass\n",
    "        #append the results of distances to this category\n",
    "        distances_categories.append(distances)\n",
    "    \n",
    "    \n",
    "    #save this distances and after each iteration we concatenate to it\n",
    "    if j == 0:\n",
    "        distances_concatenated = np.array([distances_categories])\n",
    "    else:\n",
    "        distances_concatenated = np.concatenate((distances_concatenated, np.array([distances_categories])), axis = 1)\n"
   ]
  },
  {
   "cell_type": "code",
   "execution_count": 13,
   "metadata": {
    "ExecuteTime": {
     "end_time": "2018-12-23T03:44:46.873262Z",
     "start_time": "2018-12-22T21:39:52.446759Z"
    },
    "scrolled": true
   },
   "outputs": [
    {
     "name": "stderr",
     "output_type": "stream",
     "text": [
      "\r",
      "  0%|                                                                                           | 0/32 [00:00<?, ?it/s]"
     ]
    },
    {
     "data": {
      "application/vnd.jupyter.widget-view+json": {
       "model_id": "f477f476eafd4dba9dbc0d1e3d96058a",
       "version_major": 2,
       "version_minor": 0
      },
      "text/plain": [
       "HBox(children=(IntProgress(value=0, max=35), HTML(value='')))"
      ]
     },
     "metadata": {},
     "output_type": "display_data"
    },
    {
     "name": "stdout",
     "output_type": "stream",
     "text": [
      "\n",
      "869 8.0\n"
     ]
    },
    {
     "name": "stderr",
     "output_type": "stream",
     "text": [
      "\r",
      "  3%|██▍                                                                            | 1/32 [18:04<9:20:15, 1084.37s/it]"
     ]
    },
    {
     "data": {
      "application/vnd.jupyter.widget-view+json": {
       "model_id": "29b1d24fe3234e6ba198265e8a058f87",
       "version_major": 2,
       "version_minor": 0
      },
      "text/plain": [
       "HBox(children=(IntProgress(value=0, max=35), HTML(value='')))"
      ]
     },
     "metadata": {},
     "output_type": "display_data"
    },
    {
     "name": "stdout",
     "output_type": "stream",
     "text": [
      "\n",
      "876 10.0\n"
     ]
    },
    {
     "name": "stderr",
     "output_type": "stream",
     "text": [
      "\r",
      "  6%|█████                                                                           | 2/32 [29:24<8:01:32, 963.08s/it]"
     ]
    },
    {
     "data": {
      "application/vnd.jupyter.widget-view+json": {
       "model_id": "6f3eb3cda53d45b3bb8d677c82e92ed2",
       "version_major": 2,
       "version_minor": 0
      },
      "text/plain": [
       "HBox(children=(IntProgress(value=0, max=35), HTML(value='')))"
      ]
     },
     "metadata": {},
     "output_type": "display_data"
    },
    {
     "name": "stdout",
     "output_type": "stream",
     "text": [
      "\n",
      "898 9999.0\n"
     ]
    },
    {
     "name": "stderr",
     "output_type": "stream",
     "text": [
      "\r",
      "  9%|███████▌                                                                        | 3/32 [40:31<7:02:33, 874.26s/it]"
     ]
    },
    {
     "data": {
      "application/vnd.jupyter.widget-view+json": {
       "model_id": "23ebd9fcca8d4d60bbbebd4975046a5d",
       "version_major": 2,
       "version_minor": 0
      },
      "text/plain": [
       "HBox(children=(IntProgress(value=0, max=35), HTML(value='')))"
      ]
     },
     "metadata": {},
     "output_type": "display_data"
    },
    {
     "name": "stdout",
     "output_type": "stream",
     "text": [
      "\n",
      "900 9999.0\n"
     ]
    },
    {
     "name": "stderr",
     "output_type": "stream",
     "text": [
      "\r",
      " 12%|██████████                                                                      | 4/32 [53:18<6:32:58, 842.09s/it]"
     ]
    },
    {
     "data": {
      "application/vnd.jupyter.widget-view+json": {
       "model_id": "75dc46d6ec7848b89dce60ee3ece2846",
       "version_major": 2,
       "version_minor": 0
      },
      "text/plain": [
       "HBox(children=(IntProgress(value=0, max=35), HTML(value='')))"
      ]
     },
     "metadata": {},
     "output_type": "display_data"
    },
    {
     "name": "stdout",
     "output_type": "stream",
     "text": [
      "\n",
      "949 9999.0\n"
     ]
    },
    {
     "name": "stderr",
     "output_type": "stream",
     "text": [
      "\r",
      " 16%|████████████▏                                                                 | 5/32 [1:05:22<6:02:58, 806.61s/it]"
     ]
    },
    {
     "data": {
      "application/vnd.jupyter.widget-view+json": {
       "model_id": "a6636575ed96462db2fee49181976ab2",
       "version_major": 2,
       "version_minor": 0
      },
      "text/plain": [
       "HBox(children=(IntProgress(value=0, max=35), HTML(value='')))"
      ]
     },
     "metadata": {},
     "output_type": "display_data"
    },
    {
     "name": "stdout",
     "output_type": "stream",
     "text": [
      "\n",
      "1881 9999.0\n"
     ]
    },
    {
     "name": "stderr",
     "output_type": "stream",
     "text": [
      "\r",
      " 19%|██████████████▋                                                               | 6/32 [1:16:11<5:29:03, 759.37s/it]"
     ]
    },
    {
     "data": {
      "application/vnd.jupyter.widget-view+json": {
       "model_id": "b1a35d0f751f4ee9b9c92c3093de2123",
       "version_major": 2,
       "version_minor": 0
      },
      "text/plain": [
       "HBox(children=(IntProgress(value=0, max=35), HTML(value='')))"
      ]
     },
     "metadata": {},
     "output_type": "display_data"
    },
    {
     "name": "stdout",
     "output_type": "stream",
     "text": [
      "\n",
      "2791 7.0\n"
     ]
    },
    {
     "name": "stderr",
     "output_type": "stream",
     "text": [
      "\r",
      " 22%|█████████████████                                                             | 7/32 [1:28:51<5:16:32, 759.68s/it]"
     ]
    },
    {
     "data": {
      "application/vnd.jupyter.widget-view+json": {
       "model_id": "a3ee2090cee647289f8656d753126f93",
       "version_major": 2,
       "version_minor": 0
      },
      "text/plain": [
       "HBox(children=(IntProgress(value=0, max=35), HTML(value='')))"
      ]
     },
     "metadata": {},
     "output_type": "display_data"
    },
    {
     "name": "stdout",
     "output_type": "stream",
     "text": [
      "\n",
      "4160 8.0\n"
     ]
    },
    {
     "name": "stderr",
     "output_type": "stream",
     "text": [
      "\r",
      " 25%|███████████████████▌                                                          | 8/32 [1:39:01<4:45:54, 714.78s/it]"
     ]
    },
    {
     "data": {
      "application/vnd.jupyter.widget-view+json": {
       "model_id": "47d46208eab145dfba7f5e63e7a0c41d",
       "version_major": 2,
       "version_minor": 0
      },
      "text/plain": [
       "HBox(children=(IntProgress(value=0, max=35), HTML(value='')))"
      ]
     },
     "metadata": {},
     "output_type": "display_data"
    },
    {
     "name": "stdout",
     "output_type": "stream",
     "text": [
      "\n",
      "5619 6.0\n"
     ]
    },
    {
     "name": "stderr",
     "output_type": "stream",
     "text": [
      "\r",
      " 28%|█████████████████████▉                                                        | 9/32 [1:51:51<4:40:20, 731.34s/it]"
     ]
    },
    {
     "data": {
      "application/vnd.jupyter.widget-view+json": {
       "model_id": "80803f34a7b6454ead146fd76ccbfe75",
       "version_major": 2,
       "version_minor": 0
      },
      "text/plain": [
       "HBox(children=(IntProgress(value=0, max=35), HTML(value='')))"
      ]
     },
     "metadata": {},
     "output_type": "display_data"
    },
    {
     "name": "stdout",
     "output_type": "stream",
     "text": [
      "\n",
      "6067 7.0\n"
     ]
    },
    {
     "name": "stderr",
     "output_type": "stream",
     "text": [
      "\r",
      " 31%|████████████████████████                                                     | 10/32 [2:01:57<4:14:21, 693.72s/it]"
     ]
    },
    {
     "data": {
      "application/vnd.jupyter.widget-view+json": {
       "model_id": "c639e1690a594adba7ac387c6fc5922c",
       "version_major": 2,
       "version_minor": 0
      },
      "text/plain": [
       "HBox(children=(IntProgress(value=0, max=35), HTML(value='')))"
      ]
     },
     "metadata": {},
     "output_type": "display_data"
    },
    {
     "name": "stdout",
     "output_type": "stream",
     "text": [
      "\n",
      "6795 9999.0\n"
     ]
    },
    {
     "name": "stderr",
     "output_type": "stream",
     "text": [
      "\r",
      " 34%|██████████████████████████▍                                                  | 11/32 [2:13:38<4:03:29, 695.70s/it]"
     ]
    },
    {
     "data": {
      "application/vnd.jupyter.widget-view+json": {
       "model_id": "40cdaea913d24adc97d5400e97e819e8",
       "version_major": 2,
       "version_minor": 0
      },
      "text/plain": [
       "HBox(children=(IntProgress(value=0, max=35), HTML(value='')))"
      ]
     },
     "metadata": {},
     "output_type": "display_data"
    },
    {
     "name": "stdout",
     "output_type": "stream",
     "text": [
      "\n",
      "6893 9.0\n"
     ]
    },
    {
     "name": "stderr",
     "output_type": "stream",
     "text": [
      "\r",
      " 38%|████████████████████████████▉                                                | 12/32 [2:23:16<3:40:09, 660.48s/it]"
     ]
    },
    {
     "data": {
      "application/vnd.jupyter.widget-view+json": {
       "model_id": "8bcf9ea6820f454f845089fe869f50ca",
       "version_major": 2,
       "version_minor": 0
      },
      "text/plain": [
       "HBox(children=(IntProgress(value=0, max=35), HTML(value='')))"
      ]
     },
     "metadata": {},
     "output_type": "display_data"
    },
    {
     "name": "stdout",
     "output_type": "stream",
     "text": [
      "\n",
      "7628 8.0\n"
     ]
    },
    {
     "name": "stderr",
     "output_type": "stream",
     "text": [
      "\r",
      " 41%|███████████████████████████████▎                                             | 13/32 [2:35:35<3:36:39, 684.16s/it]"
     ]
    },
    {
     "data": {
      "application/vnd.jupyter.widget-view+json": {
       "model_id": "1b272129aca54bb195582b0336efd4fa",
       "version_major": 2,
       "version_minor": 0
      },
      "text/plain": [
       "HBox(children=(IntProgress(value=0, max=35), HTML(value='')))"
      ]
     },
     "metadata": {},
     "output_type": "display_data"
    },
    {
     "name": "stdout",
     "output_type": "stream",
     "text": [
      "\n",
      "7889 7.0\n"
     ]
    },
    {
     "name": "stderr",
     "output_type": "stream",
     "text": [
      "\r",
      " 44%|█████████████████████████████████▋                                           | 14/32 [2:45:40<3:18:04, 660.24s/it]"
     ]
    },
    {
     "data": {
      "application/vnd.jupyter.widget-view+json": {
       "model_id": "ace4d5834afe41bca489b14ac73d31ef",
       "version_major": 2,
       "version_minor": 0
      },
      "text/plain": [
       "HBox(children=(IntProgress(value=0, max=35), HTML(value='')))"
      ]
     },
     "metadata": {},
     "output_type": "display_data"
    },
    {
     "name": "stdout",
     "output_type": "stream",
     "text": [
      "\n",
      "8732 9999.0\n"
     ]
    },
    {
     "name": "stderr",
     "output_type": "stream",
     "text": [
      "\r",
      " 47%|████████████████████████████████████                                         | 15/32 [2:56:54<3:08:13, 664.32s/it]"
     ]
    },
    {
     "data": {
      "application/vnd.jupyter.widget-view+json": {
       "model_id": "df2468c7f0b14c73a5815a86fdc8555e",
       "version_major": 2,
       "version_minor": 0
      },
      "text/plain": [
       "HBox(children=(IntProgress(value=0, max=35), HTML(value='')))"
      ]
     },
     "metadata": {},
     "output_type": "display_data"
    },
    {
     "name": "stdout",
     "output_type": "stream",
     "text": [
      "\n",
      "8733 9999.0\n"
     ]
    },
    {
     "name": "stderr",
     "output_type": "stream",
     "text": [
      "\r",
      " 50%|██████████████████████████████████████▌                                      | 16/32 [3:07:57<2:57:05, 664.11s/it]"
     ]
    },
    {
     "data": {
      "application/vnd.jupyter.widget-view+json": {
       "model_id": "e6c2886707524632b50dc4a4e38bdd74",
       "version_major": 2,
       "version_minor": 0
      },
      "text/plain": [
       "HBox(children=(IntProgress(value=0, max=35), HTML(value='')))"
      ]
     },
     "metadata": {},
     "output_type": "display_data"
    },
    {
     "name": "stdout",
     "output_type": "stream",
     "text": [
      "\n",
      "10062 7.0\n"
     ]
    },
    {
     "name": "stderr",
     "output_type": "stream",
     "text": [
      "\r",
      " 53%|████████████████████████████████████████▉                                    | 17/32 [3:21:04<2:55:12, 700.86s/it]"
     ]
    },
    {
     "data": {
      "application/vnd.jupyter.widget-view+json": {
       "model_id": "0966174184d645c0bc9367f8731a2def",
       "version_major": 2,
       "version_minor": 0
      },
      "text/plain": [
       "HBox(children=(IntProgress(value=0, max=35), HTML(value='')))"
      ]
     },
     "metadata": {},
     "output_type": "display_data"
    },
    {
     "name": "stdout",
     "output_type": "stream",
     "text": [
      "\n",
      "10139 6.0\n"
     ]
    },
    {
     "name": "stderr",
     "output_type": "stream",
     "text": [
      "\r",
      " 56%|███████████████████████████████████████████▎                                 | 18/32 [3:31:11<2:36:56, 672.64s/it]"
     ]
    },
    {
     "data": {
      "application/vnd.jupyter.widget-view+json": {
       "model_id": "b97881b3debc49d098f75cca3867bcba",
       "version_major": 2,
       "version_minor": 0
      },
      "text/plain": [
       "HBox(children=(IntProgress(value=0, max=35), HTML(value='')))"
      ]
     },
     "metadata": {},
     "output_type": "display_data"
    },
    {
     "name": "stdout",
     "output_type": "stream",
     "text": [
      "\n",
      "10251 6.0\n"
     ]
    },
    {
     "name": "stderr",
     "output_type": "stream",
     "text": [
      "\r",
      " 59%|█████████████████████████████████████████████▋                               | 19/32 [3:40:18<2:17:35, 635.06s/it]"
     ]
    },
    {
     "data": {
      "application/vnd.jupyter.widget-view+json": {
       "model_id": "60d22c481b614045979829ed0969b862",
       "version_major": 2,
       "version_minor": 0
      },
      "text/plain": [
       "HBox(children=(IntProgress(value=0, max=35), HTML(value='')))"
      ]
     },
     "metadata": {},
     "output_type": "display_data"
    },
    {
     "name": "stdout",
     "output_type": "stream",
     "text": [
      "\n",
      "10555 6.0\n"
     ]
    },
    {
     "name": "stderr",
     "output_type": "stream",
     "text": [
      "\r",
      " 62%|████████████████████████████████████████████████▏                            | 20/32 [3:52:11<2:11:39, 658.33s/it]"
     ]
    },
    {
     "data": {
      "application/vnd.jupyter.widget-view+json": {
       "model_id": "483771e6697b41388739b9b31b70aa88",
       "version_major": 2,
       "version_minor": 0
      },
      "text/plain": [
       "HBox(children=(IntProgress(value=0, max=35), HTML(value='')))"
      ]
     },
     "metadata": {},
     "output_type": "display_data"
    },
    {
     "name": "stdout",
     "output_type": "stream",
     "text": [
      "\n",
      "10564 6.0\n"
     ]
    },
    {
     "name": "stderr",
     "output_type": "stream",
     "text": [
      "\r",
      " 66%|██████████████████████████████████████████████████▌                          | 21/32 [4:03:58<2:03:23, 673.02s/it]"
     ]
    },
    {
     "data": {
      "application/vnd.jupyter.widget-view+json": {
       "model_id": "ae1e9e43f24c4b9a8198a6ea1324b679",
       "version_major": 2,
       "version_minor": 0
      },
      "text/plain": [
       "HBox(children=(IntProgress(value=0, max=35), HTML(value='')))"
      ]
     },
     "metadata": {},
     "output_type": "display_data"
    },
    {
     "name": "stdout",
     "output_type": "stream",
     "text": [
      "\n",
      "11640 6.0\n"
     ]
    },
    {
     "name": "stderr",
     "output_type": "stream",
     "text": [
      "\r",
      " 69%|████████████████████████████████████████████████████▉                        | 22/32 [4:13:58<1:48:31, 651.14s/it]"
     ]
    },
    {
     "data": {
      "application/vnd.jupyter.widget-view+json": {
       "model_id": "1d10a99b9ba1493fa2bca85d3bac7693",
       "version_major": 2,
       "version_minor": 0
      },
      "text/plain": [
       "HBox(children=(IntProgress(value=0, max=35), HTML(value='')))"
      ]
     },
     "metadata": {},
     "output_type": "display_data"
    },
    {
     "name": "stdout",
     "output_type": "stream",
     "text": [
      "\n",
      "11641 6.0\n"
     ]
    },
    {
     "name": "stderr",
     "output_type": "stream",
     "text": [
      "\r",
      " 72%|███████████████████████████████████████████████████████▎                     | 23/32 [4:25:31<1:39:32, 663.60s/it]"
     ]
    },
    {
     "data": {
      "application/vnd.jupyter.widget-view+json": {
       "model_id": "ad9bbb7cb92c432090edd2ab6fad446e",
       "version_major": 2,
       "version_minor": 0
      },
      "text/plain": [
       "HBox(children=(IntProgress(value=0, max=35), HTML(value='')))"
      ]
     },
     "metadata": {},
     "output_type": "display_data"
    },
    {
     "name": "stdout",
     "output_type": "stream",
     "text": [
      "\n",
      "11648 6.0\n"
     ]
    },
    {
     "name": "stderr",
     "output_type": "stream",
     "text": [
      "\r",
      " 75%|█████████████████████████████████████████████████████████▊                   | 24/32 [4:36:04<1:27:15, 654.39s/it]"
     ]
    },
    {
     "data": {
      "application/vnd.jupyter.widget-view+json": {
       "model_id": "a75f79c853b64d338799e0754d24c409",
       "version_major": 2,
       "version_minor": 0
      },
      "text/plain": [
       "HBox(children=(IntProgress(value=0, max=35), HTML(value='')))"
      ]
     },
     "metadata": {},
     "output_type": "display_data"
    },
    {
     "name": "stdout",
     "output_type": "stream",
     "text": [
      "\n",
      "11649 6.0\n"
     ]
    },
    {
     "name": "stderr",
     "output_type": "stream",
     "text": [
      "\r",
      " 78%|████████████████████████████████████████████████████████████▏                | 25/32 [4:47:19<1:17:03, 660.55s/it]"
     ]
    },
    {
     "data": {
      "application/vnd.jupyter.widget-view+json": {
       "model_id": "aeae5e312a954c12a79e2b7e829525e9",
       "version_major": 2,
       "version_minor": 0
      },
      "text/plain": [
       "HBox(children=(IntProgress(value=0, max=35), HTML(value='')))"
      ]
     },
     "metadata": {},
     "output_type": "display_data"
    },
    {
     "name": "stdout",
     "output_type": "stream",
     "text": [
      "\n",
      "11992 7.0\n"
     ]
    },
    {
     "name": "stderr",
     "output_type": "stream",
     "text": [
      "\r",
      " 81%|██████████████████████████████████████████████████████████████▌              | 26/32 [4:58:23<1:06:09, 661.64s/it]"
     ]
    },
    {
     "data": {
      "application/vnd.jupyter.widget-view+json": {
       "model_id": "59d09c99545645629e42ed40658fed47",
       "version_major": 2,
       "version_minor": 0
      },
      "text/plain": [
       "HBox(children=(IntProgress(value=0, max=35), HTML(value='')))"
      ]
     },
     "metadata": {},
     "output_type": "display_data"
    },
    {
     "name": "stdout",
     "output_type": "stream",
     "text": [
      "\n",
      "12631 6.0\n"
     ]
    },
    {
     "name": "stderr",
     "output_type": "stream",
     "text": [
      "\r",
      " 84%|██████████████████████████████████████████████████████████████████▋            | 27/32 [5:11:10<57:47, 693.43s/it]"
     ]
    },
    {
     "data": {
      "application/vnd.jupyter.widget-view+json": {
       "model_id": "6a68c602384645bd952352eee2e1dda6",
       "version_major": 2,
       "version_minor": 0
      },
      "text/plain": [
       "HBox(children=(IntProgress(value=0, max=35), HTML(value='')))"
      ]
     },
     "metadata": {},
     "output_type": "display_data"
    },
    {
     "name": "stdout",
     "output_type": "stream",
     "text": [
      "\n",
      "12941 9999.0\n"
     ]
    },
    {
     "name": "stderr",
     "output_type": "stream",
     "text": [
      "\r",
      " 88%|█████████████████████████████████████████████████████████████████████▏         | 28/32 [5:24:23<48:13, 723.36s/it]"
     ]
    },
    {
     "data": {
      "application/vnd.jupyter.widget-view+json": {
       "model_id": "69cdf1ee88f644589d8210c885b9ce6d",
       "version_major": 2,
       "version_minor": 0
      },
      "text/plain": [
       "HBox(children=(IntProgress(value=0, max=35), HTML(value='')))"
      ]
     },
     "metadata": {},
     "output_type": "display_data"
    },
    {
     "name": "stdout",
     "output_type": "stream",
     "text": [
      "\n",
      "12966 8.0\n"
     ]
    },
    {
     "name": "stderr",
     "output_type": "stream",
     "text": [
      "\r",
      " 91%|███████████████████████████████████████████████████████████████████████▌       | 29/32 [5:34:27<34:22, 687.40s/it]"
     ]
    },
    {
     "data": {
      "application/vnd.jupyter.widget-view+json": {
       "model_id": "de25e3afdc6e41ccb4ffe401eb754af1",
       "version_major": 2,
       "version_minor": 0
      },
      "text/plain": [
       "HBox(children=(IntProgress(value=0, max=35), HTML(value='')))"
      ]
     },
     "metadata": {},
     "output_type": "display_data"
    },
    {
     "name": "stdout",
     "output_type": "stream",
     "text": [
      "\n",
      "13838 6.0\n"
     ]
    },
    {
     "name": "stderr",
     "output_type": "stream",
     "text": [
      "\r",
      " 94%|██████████████████████████████████████████████████████████████████████████     | 30/32 [5:44:33<22:05, 662.88s/it]"
     ]
    },
    {
     "data": {
      "application/vnd.jupyter.widget-view+json": {
       "model_id": "8b7371848f8545fe8494e0c3cbb04682",
       "version_major": 2,
       "version_minor": 0
      },
      "text/plain": [
       "HBox(children=(IntProgress(value=0, max=35), HTML(value='')))"
      ]
     },
     "metadata": {},
     "output_type": "display_data"
    },
    {
     "name": "stdout",
     "output_type": "stream",
     "text": [
      "\n",
      "13996 7.0\n"
     ]
    },
    {
     "name": "stderr",
     "output_type": "stream",
     "text": [
      "\r",
      " 97%|████████████████████████████████████████████████████████████████████████████▌  | 31/32 [5:55:27<11:00, 660.29s/it]"
     ]
    },
    {
     "data": {
      "application/vnd.jupyter.widget-view+json": {
       "model_id": "c64574fed9004e4ab9365579326693ea",
       "version_major": 2,
       "version_minor": 0
      },
      "text/plain": [
       "HBox(children=(IntProgress(value=0, max=35), HTML(value='')))"
      ]
     },
     "metadata": {},
     "output_type": "display_data"
    },
    {
     "name": "stdout",
     "output_type": "stream",
     "text": [
      "\n",
      "16956 8.0\n"
     ]
    },
    {
     "name": "stderr",
     "output_type": "stream",
     "text": [
      "100%|███████████████████████████████████████████████████████████████████████████████| 32/32 [6:04:54<00:00, 632.28s/it]\n"
     ]
    }
   ],
   "source": [
    "distances_categories = {}\n",
    "    \n",
    "#for each category selected previously excluding C0\n",
    "for i in tqdm(final_selected_category_indx):\n",
    "    distances = []\n",
    "    #for each node in this selected category underanalysis\n",
    "    for j in tnrange(35):\n",
    "        with open(path + 'distance_' + str(j) + '.pkl', 'rb') as file:\n",
    "            distance_dict = pickle.load(file)\n",
    "            for node in categories[i]:\n",
    "                #for the starting node of C0 into our distance file\n",
    "                for starting_node in distance_dict:\n",
    "                    #try to find the distances from C0 node to the node inside the category under analysis\n",
    "                    try:\n",
    "                        d = distance_dict[starting_node][node]\n",
    "                        if d != [False]:\n",
    "                            distances.append(d)\n",
    "                            #if distance is false append 9999\n",
    "                        else: distances.append(9999)\n",
    "\n",
    "                    except: pass\n",
    "            #append the results of distances to this category\n",
    "    distances = np.array(distances)\n",
    "    median = np.median(distances)\n",
    "    distances_categories[i] = median\n",
    "    \n",
    "    print(i, median)\n",
    "    \n",
    "    \n",
    "#     #save this distances and after each iteration we concatenate to it\n",
    "#     if j == 0:\n",
    "#         distances_concatenated = np.array([distances_categories])\n",
    "#     else:\n",
    "#         distances_concatenated = np.concatenate((distances_concatenated, np.array([distances_categories])), axis = 1)\n"
   ]
  },
  {
   "cell_type": "code",
   "execution_count": 15,
   "metadata": {
    "ExecuteTime": {
     "end_time": "2018-12-23T09:06:50.969199Z",
     "start_time": "2018-12-23T09:06:50.963186Z"
    }
   },
   "outputs": [
    {
     "data": {
      "text/plain": [
       "{869: 8.0,\n",
       " 876: 10.0,\n",
       " 898: 9999.0,\n",
       " 900: 9999.0,\n",
       " 949: 9999.0,\n",
       " 1881: 9999.0,\n",
       " 2791: 7.0,\n",
       " 4160: 8.0,\n",
       " 5619: 6.0,\n",
       " 6067: 7.0,\n",
       " 6795: 9999.0,\n",
       " 6893: 9.0,\n",
       " 7628: 8.0,\n",
       " 7889: 7.0,\n",
       " 8732: 9999.0,\n",
       " 8733: 9999.0,\n",
       " 10062: 7.0,\n",
       " 10139: 6.0,\n",
       " 10251: 6.0,\n",
       " 10555: 6.0,\n",
       " 10564: 6.0,\n",
       " 11640: 6.0,\n",
       " 11641: 6.0,\n",
       " 11648: 6.0,\n",
       " 11649: 6.0,\n",
       " 11992: 7.0,\n",
       " 12631: 6.0,\n",
       " 12941: 9999.0,\n",
       " 12966: 8.0,\n",
       " 13838: 6.0,\n",
       " 13996: 7.0,\n",
       " 16956: 8.0}"
      ]
     },
     "execution_count": 15,
     "metadata": {},
     "output_type": "execute_result"
    }
   ],
   "source": [
    "distances_categories"
   ]
  },
  {
   "cell_type": "markdown",
   "metadata": {},
   "source": [
    "Sorting"
   ]
  },
  {
   "cell_type": "code",
   "execution_count": 16,
   "metadata": {
    "ExecuteTime": {
     "end_time": "2018-12-23T09:09:53.522073Z",
     "start_time": "2018-12-23T09:09:53.513097Z"
    },
    "scrolled": true
   },
   "outputs": [
    {
     "data": {
      "text/plain": [
       "[5619,\n",
       " 10139,\n",
       " 10251,\n",
       " 10555,\n",
       " 10564,\n",
       " 11640,\n",
       " 11641,\n",
       " 11648,\n",
       " 11649,\n",
       " 12631,\n",
       " 13838,\n",
       " 2791,\n",
       " 6067,\n",
       " 7889,\n",
       " 10062,\n",
       " 11992,\n",
       " 13996,\n",
       " 869,\n",
       " 4160,\n",
       " 7628,\n",
       " 12966,\n",
       " 16956,\n",
       " 6893,\n",
       " 876,\n",
       " 898,\n",
       " 900,\n",
       " 949,\n",
       " 1881,\n",
       " 6795,\n",
       " 8732,\n",
       " 8733,\n",
       " 12941]"
      ]
     },
     "execution_count": 16,
     "metadata": {},
     "output_type": "execute_result"
    }
   ],
   "source": [
    "sorted_by_value = sorted(distances_categories.items(), key=lambda kv: kv[1])\n",
    "sorted_categories = [i[0] for i in sorted_by_value] \n",
    "sorted_categories"
   ]
  },
  {
   "cell_type": "code",
   "execution_count": 14,
   "metadata": {
    "ExecuteTime": {
     "end_time": "2018-12-23T09:01:13.689620Z",
     "start_time": "2018-12-23T09:01:13.671669Z"
    }
   },
   "outputs": [
    {
     "data": {
      "text/plain": [
       "{869: 8.0,\n",
       " 876: 10.0,\n",
       " 898: 9999.0,\n",
       " 900: 9999.0,\n",
       " 949: 9999.0,\n",
       " 1881: 9999.0,\n",
       " 2791: 7.0,\n",
       " 4160: 8.0,\n",
       " 5619: 6.0,\n",
       " 6067: 7.0,\n",
       " 6795: 9999.0,\n",
       " 6893: 9.0,\n",
       " 7628: 8.0,\n",
       " 7889: 7.0,\n",
       " 8732: 9999.0,\n",
       " 8733: 9999.0,\n",
       " 10062: 7.0,\n",
       " 10139: 6.0,\n",
       " 10251: 6.0,\n",
       " 10555: 6.0,\n",
       " 10564: 6.0,\n",
       " 11640: 6.0,\n",
       " 11641: 6.0,\n",
       " 11648: 6.0,\n",
       " 11649: 6.0,\n",
       " 11992: 7.0,\n",
       " 12631: 6.0,\n",
       " 12941: 9999.0,\n",
       " 12966: 8.0,\n",
       " 13838: 6.0,\n",
       " 13996: 7.0,\n",
       " 16956: 8.0}"
      ]
     },
     "execution_count": 14,
     "metadata": {},
     "output_type": "execute_result"
    }
   ],
   "source": [
    "distances_categories"
   ]
  },
  {
   "cell_type": "markdown",
   "metadata": {},
   "source": [
    "## Block Ranging Algorithm - Step 1 , 2 , 3"
   ]
  },
  {
   "cell_type": "markdown",
   "metadata": {},
   "source": [
    "## Step 1"
   ]
  },
  {
   "cell_type": "code",
   "execution_count": null,
   "metadata": {
    "ExecuteTime": {
     "end_time": "2018-12-22T20:01:00.057860Z",
     "start_time": "2018-12-22T20:01:00.035921Z"
    }
   },
   "outputs": [],
   "source": [
    "C0 = categories[10839]\n",
    "induced_graph = DG.subgraph(C0) # create sub graph for only category zero"
   ]
  },
  {
   "cell_type": "code",
   "execution_count": null,
   "metadata": {
    "ExecuteTime": {
     "end_time": "2018-12-22T20:01:34.520167Z",
     "start_time": "2018-12-22T20:01:34.482260Z"
    }
   },
   "outputs": [],
   "source": [
    "def C0_sum_weights_inedges(induced_graph):\n",
    "    # Iterate to get sum of weights of in-edges\n",
    "    all_weights = {} # it will look like {node1:sum_of_weights, node2:sum_of_weights, ...}\n",
    "    for (node1,node2,data) in induced_graph.edges(data=True):\n",
    "        if node2 not in all_weights.keys(): # we consider node2 because we're checking how many \"incoming\" neighboors\n",
    "            all_weights[node2] = data['weight'] # if node2 doesn't exist in all_weights, just add initial weight\n",
    "        else:\n",
    "            all_weights[node2] += data['weight'] # if node2 already exists in all_weights, add weight up like cumulate weight\n",
    "    \n",
    "    # if there is no incoming neigboors, detect these nodes and give their values as zero\n",
    "    for zero_node in list(set(induced_graph.nodes()) - set(all_weights.keys())):\n",
    "        all_weights[zero_node]=0\n",
    "        \n",
    "    all_weights = sorted(all_weights.items(), key=lambda kv: kv[1], reverse=True) # sort with descending order by values in dictionary \n",
    "\n",
    "    return all_weights"
   ]
  },
  {
   "cell_type": "code",
   "execution_count": null,
   "metadata": {},
   "outputs": [],
   "source": [
    "C0_score = C0_sum_weights_inedges(induced_graph)\n",
    "C0_score # score for just category 0"
   ]
  },
  {
   "cell_type": "markdown",
   "metadata": {},
   "source": [
    "## Step 2"
   ]
  },
  {
   "cell_type": "code",
   "execution_count": null,
   "metadata": {},
   "outputs": [],
   "source": [
    "C1 = categories[2] \n",
    "sub_graph = G.subgraph(list(C0) + C1) # create sub graph for only category 0 and category 1"
   ]
  },
  {
   "cell_type": "code",
   "execution_count": null,
   "metadata": {},
   "outputs": [],
   "source": [
    "C1_score = {} # it is the score for only category 1\n",
    "\n",
    "\"\"\" apply same steps as step 1. The only difference is we use C0 as induced category. That means Since C0 is the first \n",
    "    ordered category, we need to take into account if there incoming arrows(directions) from catefory 0. We have to count\n",
    "    also. So thats why we create sub graph with C0 and C1\"\"\"\n",
    "for (node1,node2,data) in sub_graph.edges(data=True):\n",
    "    if node2 in C1:\n",
    "        if node2 not in C1_score.keys():\n",
    "            C1_score[node2] = data['weight']\n",
    "        else:\n",
    "            C1_score[node2] += data['weight']\n",
    "            \n",
    "for zero_node in list(set(C1) - set(C1_score.keys())):\n",
    "    C1_score[zero_node]=0\n",
    "        \n",
    "C1_score = sorted(C1_score.items(), key=lambda kv: kv[1], reverse=True) # sort by values\n",
    "C1_score # for only category 1"
   ]
  },
  {
   "cell_type": "markdown",
   "metadata": {},
   "source": [
    "## Step 3\n"
   ]
  },
  {
   "cell_type": "code",
   "execution_count": null,
   "metadata": {},
   "outputs": [],
   "source": [
    "def score(DG, ordered_category_indx, C0_score):\n",
    "    C_0 = list(categories[ordered_category_indx[0]])\n",
    "    cum_nodes_list = C_0 # cumulative nodes list\n",
    "    all_weights = {}\n",
    "    all_weights.update(C0_score) # append induced category rank and sum of weights\n",
    "\n",
    "    for cat_idx in ordered_category_indx:\n",
    "        C_i = list(categories[cat_idx])\n",
    "        cum_nodes_list = cum_nodes_list + C_i # we need to build sub graph cumulatively\n",
    "        sub_graph = DG.subgraph(cum_nodes_list)\n",
    "        \n",
    "        cat_weights = {} # weights for only category C_i\n",
    "        for (node1,node2,data) in sub_graph.edges(data=True):\n",
    "            if node2 in C_i:\n",
    "                if node2 not in cat_weights.keys():\n",
    "                    cat_weights[node2] = data['weight']\n",
    "                else:\n",
    "                    cat_weights[node2] += data['weight']\n",
    "    \n",
    "        for zero_node in list(set(C_i) - set(cat_weights.keys())):\n",
    "            cat_weights[zero_node] = 0\n",
    "            \n",
    "        cat_weights = sorted(cat_weights.items(), key=lambda kv: kv[1], reverse=True) # before adding to all_weights sort weights just inside the category C_i\n",
    "        all_weights.update(cat_weights) # add cat_weights to all_weights\n",
    "    \n",
    "    return all_weights"
   ]
  },
  {
   "cell_type": "code",
   "execution_count": null,
   "metadata": {},
   "outputs": [],
   "source": [
    "import time\n",
    "start_time = time.time()\n",
    "\n",
    "ordered_category_indx = [1,2,3] # in hw example order: C0,C1,C2\n",
    "nodes_rank = score(G, ordered_category_indx, C0_score)\n",
    "print(\"nodes rank and their weights:\", nodes_rank)\n",
    "print(\"nodes rank:\", nodes_rank.keys())\n",
    "\n",
    "delta = time.time() - start_time\n",
    "print(\"running time:\", delta)"
   ]
  },
  {
   "cell_type": "code",
   "execution_count": null,
   "metadata": {},
   "outputs": [],
   "source": []
  },
  {
   "cell_type": "code",
   "execution_count": null,
   "metadata": {},
   "outputs": [],
   "source": []
  },
  {
   "cell_type": "code",
   "execution_count": null,
   "metadata": {},
   "outputs": [],
   "source": []
  },
  {
   "cell_type": "code",
   "execution_count": null,
   "metadata": {},
   "outputs": [],
   "source": []
  },
  {
   "cell_type": "code",
   "execution_count": null,
   "metadata": {
    "ExecuteTime": {
     "end_time": "2018-12-22T20:10:39.252618Z",
     "start_time": "2018-12-22T20:10:39.248660Z"
    }
   },
   "outputs": [],
   "source": [
    "A = np.array([[1,2,3],[4,5,6],[7,8,9]])\n",
    "B = np.array([[1,2,3],[4,5,6],[7,8,9]])"
   ]
  },
  {
   "cell_type": "code",
   "execution_count": null,
   "metadata": {
    "ExecuteTime": {
     "end_time": "2018-12-22T20:11:13.104055Z",
     "start_time": "2018-12-22T20:11:13.097073Z"
    }
   },
   "outputs": [],
   "source": [
    "np.concatenate((A,B), axis=1)"
   ]
  },
  {
   "cell_type": "code",
   "execution_count": null,
   "metadata": {
    "ExecuteTime": {
     "end_time": "2018-12-22T20:11:47.435940Z",
     "start_time": "2018-12-22T20:11:47.428933Z"
    }
   },
   "outputs": [],
   "source": [
    "A"
   ]
  },
  {
   "cell_type": "code",
   "execution_count": null,
   "metadata": {},
   "outputs": [],
   "source": []
  }
 ],
 "metadata": {
  "kernelspec": {
   "display_name": "Python 3",
   "language": "python",
   "name": "python3"
  },
  "language_info": {
   "codemirror_mode": {
    "name": "ipython",
    "version": 3
   },
   "file_extension": ".py",
   "mimetype": "text/x-python",
   "name": "python",
   "nbconvert_exporter": "python",
   "pygments_lexer": "ipython3",
   "version": "3.7.0"
  },
  "varInspector": {
   "cols": {
    "lenName": 16,
    "lenType": 16,
    "lenVar": 40
   },
   "kernels_config": {
    "python": {
     "delete_cmd_postfix": "",
     "delete_cmd_prefix": "del ",
     "library": "var_list.py",
     "varRefreshCmd": "print(var_dic_list())"
    },
    "r": {
     "delete_cmd_postfix": ") ",
     "delete_cmd_prefix": "rm(",
     "library": "var_list.r",
     "varRefreshCmd": "cat(var_dic_list()) "
    }
   },
   "types_to_exclude": [
    "module",
    "function",
    "builtin_function_or_method",
    "instance",
    "_Feature"
   ],
   "window_display": false
  }
 },
 "nbformat": 4,
 "nbformat_minor": 2
}
