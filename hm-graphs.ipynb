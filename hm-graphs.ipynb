{
 "cells": [
  {
   "cell_type": "code",
   "execution_count": 1,
   "metadata": {
    "ExecuteTime": {
     "end_time": "2018-12-12T11:33:38.461846Z",
     "start_time": "2018-12-12T11:33:38.456860Z"
    }
   },
   "outputs": [],
   "source": [
    "from collections import defaultdict\n",
    "import numpy as np"
   ]
  },
  {
   "cell_type": "code",
   "execution_count": 56,
   "metadata": {
    "ExecuteTime": {
     "end_time": "2018-12-12T14:27:48.014798Z",
     "start_time": "2018-12-12T14:27:48.005822Z"
    }
   },
   "outputs": [],
   "source": [
    "class Graph():\n",
    "    def __init__(self):\n",
    "        # i.e. edges = {node1:[node2,node4,node5], ..., 1:[2, 3, 5], 2:[5], 3:[6] ....}\n",
    "        self.edges = defaultdict(list)\n",
    "        # i.e. weights = {(node1, node2):w1, ... , (1, 4):11, (2, 3):10 .....}\n",
    "        self.weights = {}\n",
    "        # i.e nodes = [node1, ....., 1, 2, 3, ...]\n",
    "        self.nodes = self.edges.keys()\n",
    "    \n",
    "    def add_edge(self, from_, to_, weight):\n",
    "        self.edges[from_].append(to_)\n",
    "        self.weights[(from_, to_)] = weight\n",
    "        \n",
    "    def select_edges_for_categories(self, categories_nodes):\n",
    "        selected_edges = defaultdict(list)\n",
    "        for node in categories_nodes:\n",
    "            print(node)\n",
    "            print(self.edges[node])\n",
    "            pair_nodes = set(self.edges[node])\n",
    "            if len(pair_nodes)!=0:\n",
    "                pair_nodes.intersection(categories_nodes)\n",
    "                if len(pair_nodes)!=0:\n",
    "                    selected_edges[node] = pair_nodes\n",
    "        return selected_edges"
   ]
  },
  {
   "cell_type": "code",
   "execution_count": 57,
   "metadata": {
    "ExecuteTime": {
     "end_time": "2018-12-12T14:27:53.743479Z",
     "start_time": "2018-12-12T14:27:53.732508Z"
    }
   },
   "outputs": [],
   "source": [
    "class SmallGraph(Graph):\n",
    "    def __init__(self, C0, Ci):\n",
    "        # i.e. edges = {node1:[node2,node4,node5], ..., 1:[2, 3, 5], 2:[5], 3:[6] ....}\n",
    "        self.edges = defaultdict(list)\n",
    "        # i.e. weights = {(node1, node2):w1, ... , (1, 4):11, (2, 3):10 .....}\n",
    "        self.weights = {}\n",
    "        # i.e nodes = [node1, ....., 1, 2, 3, ...]\n",
    "        self.nodes = self.edges.keys()\n",
    "        self.C0 = C0\n",
    "        self.Ci = Ci\n",
    "#         self.couples = [(i, j) for i in self.C_0 for j in self.C_i ] #all possible couples\n",
    "    \n",
    "    def dijsktra(self, initial_node):\n",
    "        visited = {initial_node: 0}\n",
    "        path = {}\n",
    "\n",
    "        nodes = set(self.nodes)\n",
    "\n",
    "        while nodes: \n",
    "            min_node = None\n",
    "            for node in nodes:\n",
    "                if node in visited:\n",
    "                    if min_node is None:\n",
    "                        min_node = node\n",
    "                    elif visited[node] < visited[min_node]:\n",
    "                        min_node = node\n",
    "\n",
    "            if min_node is None:\n",
    "                break\n",
    "\n",
    "        nodes.remove(min_node)\n",
    "        current_weight = visited[min_node]\n",
    "\n",
    "        for edge in graph.edges[min_node]:\n",
    "            weight = current_weight + graph.distance[(min_node, edge)]\n",
    "            if edge not in visited or weight < visited[edge]:\n",
    "                visited[edge] = weight\n",
    "                path[edge] = min_node\n",
    "\n",
    "            return visited, path\n",
    "#         return [a2:4, a5:65, ...]"
   ]
  },
  {
   "cell_type": "markdown",
   "metadata": {},
   "source": [
    "**Create the Main_Graph**"
   ]
  },
  {
   "cell_type": "code",
   "execution_count": 35,
   "metadata": {
    "ExecuteTime": {
     "end_time": "2018-12-12T13:40:25.076780Z",
     "start_time": "2018-12-12T13:40:17.830157Z"
    }
   },
   "outputs": [],
   "source": [
    "path = \"C:/Users/guilh/Desktop/ADM/HW5/\"\n",
    "with open(path + \"wiki-topcats-reduced.txt\", \"r\") as f:\n",
    "    #create graph\n",
    "    Main_Graph = Graph()\n",
    "    for line in f.readlines():\n",
    "        article1, article2 = line.split()\n",
    "        Main_Graph.add_edge(int(article1), int(article2), 1)"
   ]
  },
  {
   "cell_type": "code",
   "execution_count": null,
   "metadata": {},
   "outputs": [],
   "source": []
  },
  {
   "cell_type": "markdown",
   "metadata": {},
   "source": [
    "#### Is this Directed or Undirected Graph?"
   ]
  },
  {
   "cell_type": "code",
   "execution_count": 9,
   "metadata": {
    "ExecuteTime": {
     "end_time": "2018-12-12T11:35:38.085475Z",
     "start_time": "2018-12-12T11:35:38.081483Z"
    }
   },
   "outputs": [
    {
     "name": "stdout",
     "output_type": "stream",
     "text": [
      "False\n",
      "True\n"
     ]
    }
   ],
   "source": [
    "print(52 in Main_Graph.edges[401135])\n",
    "print(401135 in Main_Graph.edges[52])"
   ]
  },
  {
   "cell_type": "markdown",
   "metadata": {},
   "source": [
    "Result: Directed Graph"
   ]
  },
  {
   "cell_type": "markdown",
   "metadata": {},
   "source": [
    "----------------------"
   ]
  },
  {
   "cell_type": "markdown",
   "metadata": {},
   "source": [
    "**Create the graph for selected Categories**"
   ]
  },
  {
   "cell_type": "code",
   "execution_count": 5,
   "metadata": {},
   "outputs": [],
   "source": [
    "#### TODO: remember that in our file there is no all categories"
   ]
  },
  {
   "cell_type": "code",
   "execution_count": 38,
   "metadata": {
    "ExecuteTime": {
     "end_time": "2018-12-12T13:44:06.594749Z",
     "start_time": "2018-12-12T13:44:06.428096Z"
    }
   },
   "outputs": [],
   "source": [
    "# Reading the file with categories\n",
    "with open(path + \"wiki-topcats-categories.txt\", \"r\") as f2:\n",
    "    lines2 = f2.readlines()"
   ]
  },
  {
   "cell_type": "markdown",
   "metadata": {},
   "source": [
    "Show Categories:"
   ]
  },
  {
   "cell_type": "code",
   "execution_count": 50,
   "metadata": {
    "ExecuteTime": {
     "end_time": "2018-12-12T14:22:44.333201Z",
     "start_time": "2018-12-12T14:22:44.329210Z"
    }
   },
   "outputs": [],
   "source": [
    "categories = [line.split(\";\")[0] for line in lines2]\n",
    "print(len(categories))\n",
    "categories[:5]"
   ]
  },
  {
   "cell_type": "markdown",
   "metadata": {},
   "source": [
    "## Test for C0 and C1"
   ]
  },
  {
   "cell_type": "code",
   "execution_count": 41,
   "metadata": {
    "ExecuteTime": {
     "end_time": "2018-12-12T14:18:08.300456Z",
     "start_time": "2018-12-12T14:18:08.282504Z"
    }
   },
   "outputs": [],
   "source": [
    "# example: C0 and C1 - category 0 and 1\n",
    "C0 = list(map(int, lines2[0].split(\";\")[1].split())) #contains id_s of articles in C0\n",
    "C1 = list(map(int, lines2[1].split(\";\")[1].split())) #contains id_s of articles in C1"
   ]
  },
  {
   "cell_type": "markdown",
   "metadata": {},
   "source": [
    "Select only edges for categories C0 and C1"
   ]
  },
  {
   "cell_type": "code",
   "execution_count": 58,
   "metadata": {
    "ExecuteTime": {
     "end_time": "2018-12-12T14:27:59.289751Z",
     "start_time": "2018-12-12T14:27:59.138056Z"
    }
   },
   "outputs": [],
   "source": [
    "small_g1 = SmallGraph(C0, C1)"
   ]
  },
  {
   "cell_type": "code",
   "execution_count": 59,
   "metadata": {
    "ExecuteTime": {
     "end_time": "2018-12-12T14:28:04.497820Z",
     "start_time": "2018-12-12T14:28:04.488846Z"
    }
   },
   "outputs": [
    {
     "data": {
      "text/plain": [
       "defaultdict(list, {})"
      ]
     },
     "execution_count": 59,
     "metadata": {},
     "output_type": "execute_result"
    }
   ],
   "source": [
    "small_g1.edges"
   ]
  },
  {
   "cell_type": "code",
   "execution_count": 60,
   "metadata": {
    "ExecuteTime": {
     "end_time": "2018-12-12T14:28:09.575271Z",
     "start_time": "2018-12-12T14:28:09.553304Z"
    }
   },
   "outputs": [
    {
     "ename": "TypeError",
     "evalue": "'tuple' object is not callable",
     "output_type": "error",
     "traceback": [
      "\u001b[1;31m---------------------------------------------------------------------------\u001b[0m",
      "\u001b[1;31mTypeError\u001b[0m                                 Traceback (most recent call last)",
      "\u001b[1;32m<ipython-input-60-945d5c866a93>\u001b[0m in \u001b[0;36m<module>\u001b[1;34m()\u001b[0m\n\u001b[0;32m      1\u001b[0m \u001b[1;31m## Testing:\u001b[0m\u001b[1;33m\u001b[0m\u001b[1;33m\u001b[0m\u001b[0m\n\u001b[0;32m      2\u001b[0m \u001b[0mtest_nodes\u001b[0m \u001b[1;33m=\u001b[0m \u001b[0mC0\u001b[0m \u001b[1;33m+\u001b[0m \u001b[0mC1\u001b[0m\u001b[1;33m\u001b[0m\u001b[0m\n\u001b[1;32m----> 3\u001b[1;33m \u001b[0mselected_edges\u001b[0m \u001b[1;33m=\u001b[0m \u001b[0mMain_Graph\u001b[0m\u001b[1;33m.\u001b[0m\u001b[0mselect_edges_for_categories\u001b[0m\u001b[1;33m(\u001b[0m\u001b[0mtest_nodes\u001b[0m\u001b[1;33m)\u001b[0m\u001b[1;33m\u001b[0m\u001b[0m\n\u001b[0m\u001b[0;32m      4\u001b[0m \u001b[1;33m\u001b[0m\u001b[0m\n\u001b[0;32m      5\u001b[0m \u001b[1;32mfor\u001b[0m \u001b[0mk\u001b[0m\u001b[1;33m,\u001b[0m \u001b[0mv_nodes\u001b[0m \u001b[1;32min\u001b[0m \u001b[0mselected_edges\u001b[0m\u001b[1;33m.\u001b[0m\u001b[0mitems\u001b[0m\u001b[1;33m(\u001b[0m\u001b[1;33m)\u001b[0m\u001b[1;33m:\u001b[0m\u001b[1;33m\u001b[0m\u001b[0m\n",
      "\u001b[1;32m<ipython-input-34-df7308a842bf>\u001b[0m in \u001b[0;36mselect_edges_for_categories\u001b[1;34m(self, categories_nodes)\u001b[0m\n\u001b[0;32m     14\u001b[0m         \u001b[0mselected_edges\u001b[0m \u001b[1;33m=\u001b[0m \u001b[0mdefaultdict\u001b[0m\u001b[1;33m(\u001b[0m\u001b[0mlist\u001b[0m\u001b[1;33m)\u001b[0m\u001b[1;33m\u001b[0m\u001b[0m\n\u001b[0;32m     15\u001b[0m         \u001b[1;32mfor\u001b[0m \u001b[0mnode\u001b[0m \u001b[1;32min\u001b[0m \u001b[0mcategories_nodes\u001b[0m\u001b[1;33m:\u001b[0m\u001b[1;33m\u001b[0m\u001b[0m\n\u001b[1;32m---> 16\u001b[1;33m             \u001b[0mpair_nodes\u001b[0m \u001b[1;33m=\u001b[0m \u001b[0mset\u001b[0m\u001b[1;33m(\u001b[0m\u001b[0mself\u001b[0m\u001b[1;33m.\u001b[0m\u001b[0medges\u001b[0m\u001b[1;33m[\u001b[0m\u001b[0mnode\u001b[0m\u001b[1;33m]\u001b[0m\u001b[1;33m)\u001b[0m\u001b[1;33m\u001b[0m\u001b[0m\n\u001b[0m\u001b[0;32m     17\u001b[0m             \u001b[1;32mif\u001b[0m \u001b[0mlen\u001b[0m\u001b[1;33m(\u001b[0m\u001b[0mpair_nodes\u001b[0m\u001b[1;33m)\u001b[0m\u001b[1;33m!=\u001b[0m\u001b[1;36m0\u001b[0m\u001b[1;33m:\u001b[0m\u001b[1;33m\u001b[0m\u001b[0m\n\u001b[0;32m     18\u001b[0m                 \u001b[0mpair_nodes\u001b[0m\u001b[1;33m.\u001b[0m\u001b[0mintersection\u001b[0m\u001b[1;33m(\u001b[0m\u001b[0mcategories_nodes\u001b[0m\u001b[1;33m)\u001b[0m\u001b[1;33m\u001b[0m\u001b[0m\n",
      "\u001b[1;31mTypeError\u001b[0m: 'tuple' object is not callable"
     ]
    }
   ],
   "source": [
    "## Testing:\n",
    "test_nodes = C0 + C1\n",
    "selected_edges = Main_Graph.select_edges_for_categories(test_nodes)\n",
    "\n",
    "for k, v_nodes in selected_edges.items():\n",
    "    for node in v_nodes:\n",
    "        small_g1.add_edge(k, node, 1)"
   ]
  },
  {
   "cell_type": "code",
   "execution_count": null,
   "metadata": {
    "ExecuteTime": {
     "end_time": "2018-12-12T11:37:02.462540Z",
     "start_time": "2018-12-12T11:37:02.449575Z"
    }
   },
   "outputs": [],
   "source": []
  },
  {
   "cell_type": "markdown",
   "metadata": {},
   "source": [
    "**Iteration for all couples of categories C0 and C_i:**"
   ]
  },
  {
   "cell_type": "code",
   "execution_count": 16,
   "metadata": {
    "ExecuteTime": {
     "end_time": "2018-12-12T11:37:27.055498Z",
     "start_time": "2018-12-12T11:37:07.909684Z"
    }
   },
   "outputs": [
    {
     "name": "stdout",
     "output_type": "stream",
     "text": [
      "total time thus far 0.1\n",
      "100/17364 = 0.6%\n",
      "total time thus far 0.1\n",
      "200/17364 = 1.2%\n",
      "total time thus far 0.4\n",
      "300/17364 = 1.7%\n",
      "total time thus far 0.5\n",
      "400/17364 = 2.3%\n",
      "total time thus far 0.5\n",
      "500/17364 = 2.9%\n",
      "total time thus far 0.6\n",
      "600/17364 = 3.5%\n",
      "total time thus far 0.6\n",
      "700/17364 = 4.0%\n",
      "total time thus far 0.7\n",
      "800/17364 = 4.6%\n",
      "total time thus far 1.1\n",
      "900/17364 = 5.2%\n",
      "total time thus far 1.3\n",
      "1000/17364 = 5.8%\n",
      "total time thus far 3.2\n",
      "1100/17364 = 6.3%\n",
      "total time thus far 3.3\n",
      "1200/17364 = 6.9%\n",
      "total time thus far 3.4\n",
      "1300/17364 = 7.5%\n",
      "total time thus far 3.5\n",
      "1400/17364 = 8.1%\n",
      "total time thus far 3.5\n",
      "1500/17364 = 8.6%\n",
      "total time thus far 3.6\n",
      "1600/17364 = 9.2%\n",
      "total time thus far 3.7\n",
      "1700/17364 = 9.8%\n",
      "total time thus far 3.7\n",
      "1800/17364 = 10.4%\n",
      "total time thus far 3.8\n",
      "1900/17364 = 10.9%\n",
      "total time thus far 3.9\n",
      "2000/17364 = 11.5%\n",
      "total time thus far 4.4\n",
      "2100/17364 = 12.1%\n",
      "total time thus far 4.5\n",
      "2200/17364 = 12.7%\n",
      "total time thus far 4.5\n",
      "2300/17364 = 13.2%\n",
      "total time thus far 4.6\n",
      "2400/17364 = 13.8%\n",
      "total time thus far 4.6\n",
      "2500/17364 = 14.4%\n",
      "total time thus far 4.8\n",
      "2600/17364 = 15.0%\n",
      "total time thus far 4.8\n",
      "2700/17364 = 15.5%\n",
      "total time thus far 4.9\n",
      "2800/17364 = 16.1%\n",
      "total time thus far 4.9\n",
      "2900/17364 = 16.7%\n",
      "total time thus far 5.0\n",
      "3000/17364 = 17.3%\n",
      "total time thus far 5.1\n",
      "3100/17364 = 17.9%\n",
      "total time thus far 5.1\n",
      "3200/17364 = 18.4%\n",
      "total time thus far 5.2\n",
      "3300/17364 = 19.0%\n",
      "total time thus far 5.2\n",
      "3400/17364 = 19.6%\n",
      "total time thus far 5.3\n",
      "3500/17364 = 20.2%\n",
      "total time thus far 5.4\n",
      "3600/17364 = 20.7%\n",
      "total time thus far 5.4\n",
      "3700/17364 = 21.3%\n",
      "total time thus far 5.5\n",
      "3800/17364 = 21.9%\n",
      "total time thus far 5.5\n",
      "3900/17364 = 22.5%\n",
      "total time thus far 5.6\n",
      "4000/17364 = 23.0%\n",
      "total time thus far 5.6\n",
      "4100/17364 = 23.6%\n",
      "total time thus far 6.4\n",
      "4200/17364 = 24.2%\n",
      "total time thus far 6.5\n",
      "4300/17364 = 24.8%\n",
      "total time thus far 6.5\n",
      "4400/17364 = 25.3%\n",
      "total time thus far 6.6\n",
      "4500/17364 = 25.9%\n",
      "total time thus far 6.6\n",
      "4600/17364 = 26.5%\n",
      "total time thus far 6.7\n",
      "4700/17364 = 27.1%\n",
      "total time thus far 6.7\n",
      "4800/17364 = 27.6%\n",
      "total time thus far 6.8\n",
      "4900/17364 = 28.2%\n",
      "total time thus far 6.8\n",
      "5000/17364 = 28.8%\n",
      "total time thus far 6.9\n",
      "5100/17364 = 29.4%\n",
      "total time thus far 6.9\n",
      "5200/17364 = 29.9%\n",
      "total time thus far 7.0\n",
      "5300/17364 = 30.5%\n",
      "total time thus far 7.0\n",
      "5400/17364 = 31.1%\n",
      "total time thus far 7.1\n",
      "5500/17364 = 31.7%\n",
      "total time thus far 7.2\n",
      "5600/17364 = 32.3%\n",
      "total time thus far 7.3\n",
      "5700/17364 = 32.8%\n",
      "total time thus far 7.4\n",
      "5800/17364 = 33.4%\n",
      "total time thus far 7.5\n",
      "5900/17364 = 34.0%\n",
      "total time thus far 7.5\n",
      "6000/17364 = 34.6%\n",
      "total time thus far 7.6\n",
      "6100/17364 = 35.1%\n",
      "total time thus far 7.7\n",
      "6200/17364 = 35.7%\n",
      "total time thus far 7.8\n",
      "6300/17364 = 36.3%\n",
      "total time thus far 7.8\n",
      "6400/17364 = 36.9%\n",
      "total time thus far 7.9\n",
      "6500/17364 = 37.4%\n",
      "total time thus far 8.5\n",
      "6600/17364 = 38.0%\n",
      "total time thus far 8.6\n",
      "6700/17364 = 38.6%\n",
      "total time thus far 8.6\n",
      "6800/17364 = 39.2%\n",
      "total time thus far 8.7\n",
      "6900/17364 = 39.7%\n",
      "total time thus far 8.8\n",
      "7000/17364 = 40.3%\n",
      "total time thus far 8.8\n",
      "7100/17364 = 40.9%\n",
      "total time thus far 8.9\n",
      "7200/17364 = 41.5%\n",
      "total time thus far 8.9\n",
      "7300/17364 = 42.0%\n",
      "total time thus far 9.0\n",
      "7400/17364 = 42.6%\n",
      "total time thus far 9.0\n",
      "7500/17364 = 43.2%\n",
      "total time thus far 9.1\n",
      "7600/17364 = 43.8%\n",
      "total time thus far 9.2\n",
      "7700/17364 = 44.3%\n",
      "total time thus far 9.3\n",
      "7800/17364 = 44.9%\n",
      "total time thus far 9.4\n",
      "7900/17364 = 45.5%\n",
      "total time thus far 9.4\n",
      "8000/17364 = 46.1%\n",
      "total time thus far 9.5\n",
      "8100/17364 = 46.6%\n",
      "total time thus far 9.5\n",
      "8200/17364 = 47.2%\n",
      "total time thus far 9.7\n",
      "8300/17364 = 47.8%\n",
      "total time thus far 9.7\n",
      "8400/17364 = 48.4%\n",
      "total time thus far 9.8\n",
      "8500/17364 = 49.0%\n",
      "total time thus far 9.8\n",
      "8600/17364 = 49.5%\n",
      "total time thus far 9.9\n",
      "8700/17364 = 50.1%\n",
      "total time thus far 9.9\n",
      "8800/17364 = 50.7%\n",
      "total time thus far 10.0\n",
      "8900/17364 = 51.3%\n",
      "total time thus far 10.1\n",
      "9000/17364 = 51.8%\n",
      "total time thus far 10.1\n",
      "9100/17364 = 52.4%\n",
      "total time thus far 10.2\n",
      "9200/17364 = 53.0%\n",
      "total time thus far 10.2\n",
      "9300/17364 = 53.6%\n",
      "total time thus far 10.3\n",
      "9400/17364 = 54.1%\n",
      "total time thus far 10.4\n",
      "9500/17364 = 54.7%\n",
      "total time thus far 10.4\n",
      "9600/17364 = 55.3%\n",
      "total time thus far 11.2\n",
      "9700/17364 = 55.9%\n",
      "total time thus far 11.3\n",
      "9800/17364 = 56.4%\n",
      "total time thus far 11.4\n",
      "9900/17364 = 57.0%\n",
      "total time thus far 11.4\n",
      "10000/17364 = 57.6%\n",
      "total time thus far 11.5\n",
      "10100/17364 = 58.2%\n",
      "total time thus far 11.7\n",
      "10200/17364 = 58.7%\n",
      "total time thus far 11.8\n",
      "10300/17364 = 59.3%\n",
      "total time thus far 12.0\n",
      "10400/17364 = 59.9%\n",
      "total time thus far 12.1\n",
      "10500/17364 = 60.5%\n",
      "total time thus far 12.6\n",
      "10600/17364 = 61.0%\n",
      "total time thus far 12.7\n",
      "10700/17364 = 61.6%\n",
      "total time thus far 12.8\n",
      "10800/17364 = 62.2%\n",
      "total time thus far 12.9\n",
      "10900/17364 = 62.8%\n",
      "total time thus far 12.9\n",
      "11000/17364 = 63.3%\n",
      "total time thus far 13.0\n",
      "11100/17364 = 63.9%\n",
      "total time thus far 13.0\n",
      "11200/17364 = 64.5%\n",
      "total time thus far 13.2\n",
      "11300/17364 = 65.1%\n",
      "total time thus far 13.2\n",
      "11400/17364 = 65.7%\n",
      "total time thus far 13.3\n",
      "11500/17364 = 66.2%\n",
      "total time thus far 13.3\n",
      "11600/17364 = 66.8%\n",
      "total time thus far 13.7\n",
      "11700/17364 = 67.4%\n",
      "total time thus far 13.8\n",
      "11800/17364 = 68.0%\n",
      "total time thus far 13.9\n",
      "11900/17364 = 68.5%\n",
      "total time thus far 14.1\n",
      "12000/17364 = 69.1%\n",
      "total time thus far 14.2\n",
      "12100/17364 = 69.7%\n",
      "total time thus far 14.2\n",
      "12200/17364 = 70.3%\n",
      "total time thus far 14.3\n",
      "12300/17364 = 70.8%\n",
      "total time thus far 14.3\n",
      "12400/17364 = 71.4%\n",
      "total time thus far 14.4\n",
      "12500/17364 = 72.0%\n",
      "total time thus far 14.5\n",
      "12600/17364 = 72.6%\n",
      "total time thus far 15.7\n",
      "12700/17364 = 73.1%\n",
      "total time thus far 15.8\n",
      "12800/17364 = 73.7%\n",
      "total time thus far 15.8\n",
      "12900/17364 = 74.3%\n",
      "total time thus far 15.9\n",
      "13000/17364 = 74.9%\n",
      "total time thus far 16.0\n",
      "13100/17364 = 75.4%\n",
      "total time thus far 16.1\n",
      "13200/17364 = 76.0%\n",
      "total time thus far 16.1\n",
      "13300/17364 = 76.6%\n",
      "total time thus far 16.2\n",
      "13400/17364 = 77.2%\n",
      "total time thus far 16.3\n",
      "13500/17364 = 77.7%\n",
      "total time thus far 16.3\n",
      "13600/17364 = 78.3%\n",
      "total time thus far 16.4\n",
      "13700/17364 = 78.9%\n",
      "total time thus far 16.5\n",
      "13800/17364 = 79.5%\n",
      "total time thus far 16.7\n",
      "13900/17364 = 80.1%\n",
      "total time thus far 16.8\n",
      "14000/17364 = 80.6%\n",
      "total time thus far 16.8\n",
      "14100/17364 = 81.2%\n",
      "total time thus far 16.9\n",
      "14200/17364 = 81.8%\n",
      "total time thus far 17.0\n",
      "14300/17364 = 82.4%\n",
      "total time thus far 17.1\n",
      "14400/17364 = 82.9%\n",
      "total time thus far 17.1\n",
      "14500/17364 = 83.5%\n",
      "total time thus far 17.2\n",
      "14600/17364 = 84.1%\n",
      "total time thus far 17.3\n",
      "14700/17364 = 84.7%\n",
      "total time thus far 17.3\n",
      "14800/17364 = 85.2%\n",
      "total time thus far 17.4\n",
      "14900/17364 = 85.8%\n",
      "total time thus far 17.5\n",
      "15000/17364 = 86.4%\n",
      "total time thus far 17.6\n",
      "15100/17364 = 87.0%\n",
      "total time thus far 17.7\n",
      "15200/17364 = 87.5%\n",
      "total time thus far 17.8\n",
      "15300/17364 = 88.1%\n",
      "total time thus far 17.9\n",
      "15400/17364 = 88.7%\n",
      "total time thus far 17.9\n",
      "15500/17364 = 89.3%\n",
      "total time thus far 18.0\n",
      "15600/17364 = 89.8%\n",
      "total time thus far 18.1\n",
      "15700/17364 = 90.4%\n",
      "total time thus far 18.2\n",
      "15800/17364 = 91.0%\n",
      "total time thus far 18.2\n",
      "15900/17364 = 91.6%\n",
      "total time thus far 18.3\n",
      "16000/17364 = 92.1%\n",
      "total time thus far 18.3\n",
      "16100/17364 = 92.7%\n",
      "total time thus far 18.4\n",
      "16200/17364 = 93.3%\n",
      "total time thus far 18.4\n",
      "16300/17364 = 93.9%\n",
      "total time thus far 18.5\n",
      "16400/17364 = 94.4%\n",
      "total time thus far 18.5\n",
      "16500/17364 = 95.0%\n",
      "total time thus far 18.6\n",
      "16600/17364 = 95.6%\n",
      "total time thus far 18.7\n",
      "16700/17364 = 96.2%\n",
      "total time thus far 18.7\n",
      "16800/17364 = 96.8%\n",
      "total time thus far 18.8\n",
      "16900/17364 = 97.3%\n",
      "total time thus far 18.9\n",
      "17000/17364 = 97.9%\n",
      "total time thus far 19.0\n",
      "17100/17364 = 98.5%\n",
      "total time thus far 19.0\n",
      "17200/17364 = 99.1%\n",
      "total time thus far 19.1\n",
      "17300/17364 = 99.6%\n",
      "total time:19.13483738899231\n"
     ]
    }
   ],
   "source": [
    "import time\n",
    "start = time.time()\n",
    "C0 = list(map(int, lines2[0].split(\";\")[1].split())) #contains id_s of articles in C0\n",
    "SS = []\n",
    "c=0\n",
    "r=len(categories)\n",
    "for line in lines2[1:]:\n",
    "    c+=1\n",
    "    if c%100==0:\n",
    "        print(\"total time thus far {:.1f}\".format(time.time()-start))\n",
    "        print(\"{}/{} = {:.1f}%\".format(c,r,(c/r)*100))\n",
    "    C_i = list(map(int, line.split(\";\")[1].split())) #contains id_s of articles in C_i\n",
    "    category_nodes = set(C0 + C_i)\n",
    "    selected_edges = Main_Graph.select_edges_for_categories(category_nodes)\n",
    "    SS.append(selected_edges)\n",
    "    # create small graph\n",
    "    # find all paths\n",
    "end = time.time()\n",
    "print(\"total time:{}\".format(end-start))"
   ]
  },
  {
   "cell_type": "code",
   "execution_count": 19,
   "metadata": {},
   "outputs": [
    {
     "data": {
      "text/plain": [
       "17363"
      ]
     },
     "execution_count": 19,
     "metadata": {},
     "output_type": "execute_result"
    }
   ],
   "source": [
    "len(SS)"
   ]
  },
  {
   "cell_type": "markdown",
   "metadata": {},
   "source": [
    "-------------------"
   ]
  },
  {
   "cell_type": "code",
   "execution_count": 13,
   "metadata": {},
   "outputs": [],
   "source": [
    "with open(path + \"wiki-topcats-page-names.txt\", \"r\") as f3:\n",
    "    lines3 = f3.readlines()"
   ]
  },
  {
   "cell_type": "code",
   "execution_count": 14,
   "metadata": {},
   "outputs": [
    {
     "data": {
      "text/plain": [
       "['0 Chiasmal syndrome\\n',\n",
       " '1 Kleroterion\\n',\n",
       " '2 Pinakion\\n',\n",
       " '3 LyndonHochschildSerre spectral sequence\\n',\n",
       " \"4 Zariski's main theorem\\n\"]"
      ]
     },
     "execution_count": 14,
     "metadata": {},
     "output_type": "execute_result"
    }
   ],
   "source": [
    "lines3[0:5]"
   ]
  },
  {
   "cell_type": "markdown",
   "metadata": {},
   "source": [
    "------------------"
   ]
  },
  {
   "cell_type": "markdown",
   "metadata": {},
   "source": [
    "Each category  corresponds to a list of nodes.\n",
    "\n",
    "ShortestPath is the set of all the possible shortest paths between the nodes of categories C0 and C1.\n",
    "\n",
    "Moreover, the length of a path is given by the sum of the weights of the edges it is composed by."
   ]
  },
  {
   "cell_type": "code",
   "execution_count": null,
   "metadata": {},
   "outputs": [],
   "source": []
  },
  {
   "cell_type": "code",
   "execution_count": 26,
   "metadata": {
    "ExecuteTime": {
     "end_time": "2018-12-12T11:47:53.945433Z",
     "start_time": "2018-12-12T11:47:53.934469Z"
    }
   },
   "outputs": [
    {
     "ename": "SyntaxError",
     "evalue": "invalid syntax (<ipython-input-26-e3b94d037d11>, line 26)",
     "output_type": "error",
     "traceback": [
      "\u001b[1;36m  File \u001b[1;32m\"<ipython-input-26-e3b94d037d11>\"\u001b[1;36m, line \u001b[1;32m26\u001b[0m\n\u001b[1;33m    new_distance = distance[node] + self.graph.weights[]\u001b[0m\n\u001b[1;37m                                                       ^\u001b[0m\n\u001b[1;31mSyntaxError\u001b[0m\u001b[1;31m:\u001b[0m invalid syntax\n"
     ]
    }
   ],
   "source": [
    "class ShortestPath():\n",
    "    def __init__(self, C_0, C_i, graph):\n",
    "        self.graph = graph #only with nodes from C1 an C2\n",
    "        self.C_0 = C_0 #list of articles in C1\n",
    "        self.C_i = C_i #list of articles in C2\n",
    "        self.all_nodes = self.C_0 + self.C_i \n",
    "        self.all_paths = []\n",
    "        self.couples = [(i, j) for i in self.C_0 for j in self.C_i ] #all possible couples \n",
    "    \n",
    "    def find_path(self, start_node, end_node):\n",
    "        \n",
    "        \"\"\"Dijkstry Algorithm\"\"\"\n",
    "        for node in self.all_nodes:\n",
    "            distance[node] = float(\"inf\")\n",
    "            parent[node] = None\n",
    "            distance[start_node] = 0\n",
    "            \n",
    "        Q = dict((node , None) for node in self.all_nodes) #queue\n",
    "        \n",
    "        #while Q is not empty\n",
    "        while Q:\n",
    "            node = min(queue , key = lambda x: x[1])\n",
    "            del Q[node] #remove from queue\n",
    "            \n",
    "            for neighbor_node in self.graph.edges[node]:\n",
    "                new_distance = distance[node] + self.graph.weights[] \n",
    "            \n",
    "        \n",
    "        return len_path\n",
    "    \n",
    "    def find_all_paths(self):\n",
    "        for (node1, node2) in self.couples:\n",
    "            self.all_paths.append(self.find_path(node1, node2))"
   ]
  },
  {
   "cell_type": "code",
   "execution_count": 21,
   "metadata": {},
   "outputs": [],
   "source": [
    "sp = ShortestPath(C0, C1, test_graph)"
   ]
  },
  {
   "cell_type": "code",
   "execution_count": 22,
   "metadata": {},
   "outputs": [
    {
     "data": {
      "text/plain": [
       "55929"
      ]
     },
     "execution_count": 22,
     "metadata": {},
     "output_type": "execute_result"
    }
   ],
   "source": [
    "len(sp.couples)"
   ]
  },
  {
   "cell_type": "code",
   "execution_count": 100,
   "metadata": {},
   "outputs": [],
   "source": [
    "#[(i, j) for i in [\"a\", \"b\", \"c\"] for j in range(7)]"
   ]
  },
  {
   "cell_type": "code",
   "execution_count": 22,
   "metadata": {
    "ExecuteTime": {
     "end_time": "2018-12-12T11:41:19.870649Z",
     "start_time": "2018-12-12T11:41:19.867631Z"
    }
   },
   "outputs": [],
   "source": [
    "setA = {1,3,5}"
   ]
  },
  {
   "cell_type": "code",
   "execution_count": 24,
   "metadata": {
    "ExecuteTime": {
     "end_time": "2018-12-12T11:41:34.345072Z",
     "start_time": "2018-12-12T11:41:34.341082Z"
    }
   },
   "outputs": [],
   "source": [
    "setB = {2,4,6}"
   ]
  },
  {
   "cell_type": "code",
   "execution_count": 25,
   "metadata": {
    "ExecuteTime": {
     "end_time": "2018-12-12T11:41:42.851352Z",
     "start_time": "2018-12-12T11:41:42.846340Z"
    }
   },
   "outputs": [
    {
     "data": {
      "text/plain": [
       "{1, 2, 3, 4, 5, 6}"
      ]
     },
     "execution_count": 25,
     "metadata": {},
     "output_type": "execute_result"
    }
   ],
   "source": [
    "setA | setB"
   ]
  },
  {
   "cell_type": "code",
   "execution_count": null,
   "metadata": {},
   "outputs": [],
   "source": [
    "self.graph.edges[]"
   ]
  },
  {
   "cell_type": "code",
   "execution_count": 27,
   "metadata": {
    "ExecuteTime": {
     "end_time": "2018-12-12T13:32:26.442799Z",
     "start_time": "2018-12-12T13:32:26.414876Z"
    }
   },
   "outputs": [],
   "source": [
    "class Graph:\n",
    "  def __init__(self):\n",
    "    self.nodes = set()\n",
    "    self.edges = defaultdict(list)\n",
    "    self.distances = {}\n",
    "\n",
    "  def add_node(self, value):\n",
    "    self.nodes.add(value)\n",
    "\n",
    "  def add_edge(self, from_node, to_node, distance):\n",
    "    self.edges[from_node].append(to_node)\n",
    "    self.edges[to_node].append(from_node)\n",
    "    self.distances[(from_node, to_node)] = distance\n",
    "\n",
    "\n",
    "def dijsktra(graph, initial):\n",
    "  visited = {initial: 0}\n",
    "  path = {}\n",
    "\n",
    "  nodes = set(graph.nodes)\n",
    "\n",
    "  while nodes: \n",
    "    min_node = None\n",
    "    for node in nodes:\n",
    "      if node in visited:\n",
    "        if min_node is None:\n",
    "          min_node = node\n",
    "        elif visited[node] < visited[min_node]:\n",
    "          min_node = node\n",
    "\n",
    "    if min_node is None:\n",
    "      break\n",
    "\n",
    "    nodes.remove(min_node)\n",
    "    current_weight = visited[min_node]\n",
    "\n",
    "    for edge in graph.edges[min_node]:\n",
    "      weight = current_weight + graph.distance[(min_node, edge)]\n",
    "      if edge not in visited or weight < visited[edge]:\n",
    "        visited[edge] = weight\n",
    "        path[edge] = min_node\n",
    "\n",
    "  return visited, path"
   ]
  },
  {
   "cell_type": "code",
   "execution_count": null,
   "metadata": {},
   "outputs": [],
   "source": [
    "dijsktra()"
   ]
  }
 ],
 "metadata": {
  "kernelspec": {
   "display_name": "Python 3",
   "language": "python",
   "name": "python3"
  },
  "language_info": {
   "codemirror_mode": {
    "name": "ipython",
    "version": 3
   },
   "file_extension": ".py",
   "mimetype": "text/x-python",
   "name": "python",
   "nbconvert_exporter": "python",
   "pygments_lexer": "ipython3",
   "version": "3.7.0"
  },
  "varInspector": {
   "cols": {
    "lenName": 16,
    "lenType": 16,
    "lenVar": 40
   },
   "kernels_config": {
    "python": {
     "delete_cmd_postfix": "",
     "delete_cmd_prefix": "del ",
     "library": "var_list.py",
     "varRefreshCmd": "print(var_dic_list())"
    },
    "r": {
     "delete_cmd_postfix": ") ",
     "delete_cmd_prefix": "rm(",
     "library": "var_list.r",
     "varRefreshCmd": "cat(var_dic_list()) "
    }
   },
   "types_to_exclude": [
    "module",
    "function",
    "builtin_function_or_method",
    "instance",
    "_Feature"
   ],
   "window_display": false
  }
 },
 "nbformat": 4,
 "nbformat_minor": 2
}
